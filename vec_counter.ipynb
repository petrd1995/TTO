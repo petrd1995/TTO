{
 "cells": [
  {
   "cell_type": "code",
   "execution_count": 1,
   "source": [
    "import numpy as np\r\n",
    "import os\r\n",
    "import csv\r\n",
    "import json\r\n",
    "\r\n",
    "\r\n",
    "path = 'C:\\\\Users\\\\david\\\\OneDrive - České vysoké učení technické v Praze\\\\Dizertace\\\\TTO\\\\TTO\\\\kostka0104_1_aktualni'\r\n",
    "\r\n",
    "nonzero_res = np.genfromtxt(path + '\\\\nonzero_res.csv', delimiter=',')\r\n",
    "vec = np.genfromtxt(path + '\\\\vec.csv', delimiter=',')\r\n",
    "lengths = np.genfromtxt(path + '\\\\lengths.csv', delimiter=',')\r\n",
    "all_nodes = np.genfromtxt(path + '\\\\all_nodes.csv', delimiter=',')\r\n",
    "nonzero_vecs = vec[nonzero_res[:,1].astype(int)]"
   ],
   "outputs": [],
   "metadata": {}
  },
  {
   "cell_type": "code",
   "execution_count": 10,
   "source": [
    "def count_vecs(outstyle = \"deg\"):\r\n",
    "\r\n",
    "    vec_dict = {}\r\n",
    "    nnonzerobars = np.shape(nonzero_vecs)[0]\r\n",
    "\r\n",
    "    for i in range(0,nnonzerobars):\r\n",
    "\r\n",
    "        if outstyle == \"rad\":\r\n",
    "            current_vec = nonzero_vecs[i]\r\n",
    "        else:\r\n",
    "            current_vec = np.around(np.rad2deg(np.arccos(nonzero_vecs[i])), decimals=2)\r\n",
    "\r\n",
    "        counter = 0\r\n",
    "        for j in range(i,nnonzerobars):\r\n",
    "\r\n",
    "            if (nonzero_vecs[i, 0] == nonzero_vecs[j, 0]) and (nonzero_vecs[i, 1] == nonzero_vecs[j, 1]) and (nonzero_vecs[i, 2] == nonzero_vecs[j, 2]) and (f\"{current_vec}\" not in vec_dict):\r\n",
    "                \r\n",
    "                # count occurences or total lengths?\r\n",
    "                counter += lengths[i]\r\n",
    "                # counter += 1\r\n",
    "\r\n",
    "        if counter != 0:\r\n",
    "\r\n",
    "            vec_dict[f\"{current_vec}\"] = counter\r\n",
    "    return vec_dict\r\n",
    "            \r\n",
    "def write_out(name, inp_dict):\r\n",
    "    with open(f'{name}.csv', 'w') as f:\r\n",
    "        for key in inp_dict.keys():\r\n",
    "            f.write(f\"{key}, {inp_dict[key]}\\n\")\r\n",
    "\r\n",
    "    with open(f\"{name}.json\", \"w\") as outfile:\r\n",
    "        json.dump(inp_dict, outfile)"
   ],
   "outputs": [],
   "metadata": {}
  },
  {
   "cell_type": "code",
   "execution_count": 11,
   "source": [
    "write_out(\"vektory3\",count_vecs())"
   ],
   "outputs": [],
   "metadata": {}
  }
 ],
 "metadata": {
  "kernelspec": {
   "display_name": "Python 3",
   "language": "python",
   "name": "python3"
  },
  "language_info": {
   "codemirror_mode": {
    "name": "ipython",
    "version": 3
   },
   "file_extension": ".py",
   "mimetype": "text/x-python",
   "name": "python",
   "nbconvert_exporter": "python",
   "pygments_lexer": "ipython3",
   "version": "3.8.5"
  }
 },
 "nbformat": 4,
 "nbformat_minor": 5
}