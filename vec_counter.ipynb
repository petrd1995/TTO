{
 "cells": [
  {
   "cell_type": "code",
   "execution_count": 28,
   "source": [
    "import numpy as np\r\n",
    "import os\r\n",
    "import csv\r\n",
    "import json\r\n",
    "\r\n",
    "\r\n",
    "path = 'C:\\\\Users\\\\david\\\\OneDrive - České vysoké učení technické v Praze\\\\Dizertace\\\\TTO\\\\TTO\\\\kostka0104_1_aktualni'\r\n",
    "\r\n",
    "nonzero_res = np.genfromtxt(path + '\\\\nonzero_res.csv', delimiter=',')\r\n",
    "vec = np.genfromtxt(path + '\\\\vec.csv', delimiter=',')\r\n",
    "lengths = np.genfromtxt(path + '\\\\lengths.csv', delimiter=',')\r\n",
    "all_nodes = np.genfromtxt(path + '\\\\all_nodes.csv', delimiter=',')\r\n",
    "nonzero_vecs = vec[nonzero_res[:,1].astype(int)]"
   ],
   "outputs": [],
   "metadata": {}
  },
  {
   "cell_type": "code",
   "execution_count": 29,
   "source": [
    "vec_dict = {}\r\n",
    "nnonzerobars = np.shape(nonzero_vecs)[0]\r\n",
    "\r\n",
    "for i in range(0,nnonzerobars):\r\n",
    "    counter = 0\r\n",
    "    for j in range(i,nnonzerobars):\r\n",
    "        if (nonzero_vecs[i, 0] == nonzero_vecs[j, 0]) and (nonzero_vecs[i, 1] == nonzero_vecs[j, 1]) and (nonzero_vecs[i, 2] == nonzero_vecs[j, 2]) and (f\"{nonzero_vecs[i]}\" not in vec_dict):\r\n",
    "            counter += 1\r\n",
    "    if counter != 0:\r\n",
    "        vec_dict[f\"{nonzero_vecs[i]}\"] = counter"
   ],
   "outputs": [],
   "metadata": {}
  },
  {
   "cell_type": "code",
   "execution_count": 30,
   "source": [
    "with open('vektory.csv', 'w') as f:\r\n",
    "    for key in vec_dict.keys():\r\n",
    "        f.write(f\"{key}, {vec_dict[key]}\\n\")\r\n",
    "\r\n",
    "with open(\"vektory.json\", \"w\") as outfile:\r\n",
    "    json.dump(vec_dict, outfile)\r\n"
   ],
   "outputs": [],
   "metadata": {}
  }
 ],
 "metadata": {
  "kernelspec": {
   "display_name": "Python 3",
   "language": "python",
   "name": "python3"
  },
  "language_info": {
   "codemirror_mode": {
    "name": "ipython",
    "version": 3
   },
   "file_extension": ".py",
   "mimetype": "text/x-python",
   "name": "python",
   "nbconvert_exporter": "python",
   "pygments_lexer": "ipython3",
   "version": "3.8.5"
  }
 },
 "nbformat": 4,
 "nbformat_minor": 5
}